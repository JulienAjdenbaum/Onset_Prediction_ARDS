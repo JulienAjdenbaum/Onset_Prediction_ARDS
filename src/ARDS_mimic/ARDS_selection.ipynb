{
 "cells": [
  {
   "cell_type": "code",
   "execution_count": 1,
   "id": "4acc81da-bbc7-4a5a-87c4-f3393e8ff9d5",
   "metadata": {
    "ExecuteTime": {
     "end_time": "2024-09-03T07:57:04.186786Z",
     "start_time": "2024-09-03T07:57:03.906917Z"
    }
   },
   "outputs": [],
   "source": [
    "import numpy as np\n",
    "import pandas as pd\n",
    "import matplotlib.pyplot as plt\n",
    "import psycopg2\n",
    "import os \n",
    "\n",
    "\n",
    "\n",
    "# below imports are used to print out pretty pandas dataframes\n",
    "from IPython.display import display, HTML\n",
    "from sklearn.model_selection import train_test_split\n",
    "import warnings\n",
    "warnings.filterwarnings(\"ignore\")\n",
    "%matplotlib inline\n",
    "plt.style.use('ggplot')\n",
    "\n",
    "# information used to create a database connection\n",
    "sqluser = 'postgres'\n",
    "dbname = 'mimic'\n",
    "schema_name = 'mimiciii'\n",
    "\n",
    "# Connect to postgres with a copy of the MIMIC-III database\n",
    "con = psycopg2.connect(dbname=dbname, user=sqluser, password=sqluser)\n",
    "\n",
    "# the below statement is prepended to queries to ensure they select from the right schema\n",
    "query_schema = 'set search_path to ' + schema_name + ';'"
   ]
  },
  {
   "cell_type": "code",
   "execution_count": 2,
   "id": "a4dfe536-238a-470e-9712-5cc4242235ac",
   "metadata": {
    "ExecuteTime": {
     "end_time": "2024-09-03T07:57:07.048713Z",
     "start_time": "2024-09-03T07:57:06.918414Z"
    }
   },
   "outputs": [
    {
     "name": "stdout",
     "output_type": "stream",
     "text": [
      "Number of rows : 7\n"
     ]
    },
    {
     "data": {
      "text/html": [
       "<div>\n",
       "<style scoped>\n",
       "    .dataframe tbody tr th:only-of-type {\n",
       "        vertical-align: middle;\n",
       "    }\n",
       "\n",
       "    .dataframe tbody tr th {\n",
       "        vertical-align: top;\n",
       "    }\n",
       "\n",
       "    .dataframe thead th {\n",
       "        text-align: right;\n",
       "    }\n",
       "</style>\n",
       "<table border=\"1\" class=\"dataframe\">\n",
       "  <thead>\n",
       "    <tr style=\"text-align: right;\">\n",
       "      <th></th>\n",
       "      <th>row_id</th>\n",
       "      <th>icd9_code</th>\n",
       "      <th>short_title</th>\n",
       "      <th>long_title</th>\n",
       "    </tr>\n",
       "  </thead>\n",
       "  <tbody>\n",
       "    <tr>\n",
       "      <th>0</th>\n",
       "      <td>5274</td>\n",
       "      <td>51851</td>\n",
       "      <td>Ac resp flr fol trma/srg</td>\n",
       "      <td>Acute respiratory failure following trauma and surgery</td>\n",
       "    </tr>\n",
       "    <tr>\n",
       "      <th>1</th>\n",
       "      <td>5275</td>\n",
       "      <td>51852</td>\n",
       "      <td>Ot pul insuf fol trm/srg</td>\n",
       "      <td>Other pulmonary insufficiency, not elsewhere classified, following trauma and surgery</td>\n",
       "    </tr>\n",
       "    <tr>\n",
       "      <th>2</th>\n",
       "      <td>5276</td>\n",
       "      <td>51853</td>\n",
       "      <td>Ac/chr rsp flr fol tr/sg</td>\n",
       "      <td>Acute and chronic respiratory failure following trauma and surgery</td>\n",
       "    </tr>\n",
       "    <tr>\n",
       "      <th>3</th>\n",
       "      <td>5279</td>\n",
       "      <td>51881</td>\n",
       "      <td>Acute respiratry failure</td>\n",
       "      <td>Acute respiratory failure</td>\n",
       "    </tr>\n",
       "    <tr>\n",
       "      <th>4</th>\n",
       "      <td>5280</td>\n",
       "      <td>51882</td>\n",
       "      <td>Other pulmonary insuff</td>\n",
       "      <td>Other pulmonary insufficiency, not elsewhere classified</td>\n",
       "    </tr>\n",
       "    <tr>\n",
       "      <th>5</th>\n",
       "      <td>5282</td>\n",
       "      <td>51884</td>\n",
       "      <td>Acute &amp; chronc resp fail</td>\n",
       "      <td>Acute and chronic respiratory failure</td>\n",
       "    </tr>\n",
       "    <tr>\n",
       "      <th>6</th>\n",
       "      <td>8702</td>\n",
       "      <td>769</td>\n",
       "      <td>Respiratory distress syn</td>\n",
       "      <td>Respiratory distress syndrome in newborn</td>\n",
       "    </tr>\n",
       "  </tbody>\n",
       "</table>\n",
       "</div>"
      ],
      "text/plain": [
       "   row_id icd9_code               short_title  \\\n",
       "0    5274     51851  Ac resp flr fol trma/srg   \n",
       "1    5275     51852  Ot pul insuf fol trm/srg   \n",
       "2    5276     51853  Ac/chr rsp flr fol tr/sg   \n",
       "3    5279     51881  Acute respiratry failure   \n",
       "4    5280     51882    Other pulmonary insuff   \n",
       "5    5282     51884  Acute & chronc resp fail   \n",
       "6    8702       769  Respiratory distress syn   \n",
       "\n",
       "                                                                              long_title  \n",
       "0                                 Acute respiratory failure following trauma and surgery  \n",
       "1  Other pulmonary insufficiency, not elsewhere classified, following trauma and surgery  \n",
       "2                     Acute and chronic respiratory failure following trauma and surgery  \n",
       "3                                                              Acute respiratory failure  \n",
       "4                                Other pulmonary insufficiency, not elsewhere classified  \n",
       "5                                                  Acute and chronic respiratory failure  \n",
       "6                                               Respiratory distress syndrome in newborn  "
      ]
     },
     "metadata": {},
     "output_type": "display_data"
    }
   ],
   "source": [
    "query = query_schema + \"\"\"\n",
    "SELECT *\n",
    "FROM D_ICD_DIAGNOSES\n",
    "WHERE icd9_code IN {ARDS_list}\n",
    "\"\"\"\n",
    "\n",
    "# ARDS_list = (\"469\", \"51882\", \"5185\", \"460\", \"461\", \"462\", \"463\", \"464\", \"465\", \"466\", \"465\", \"4611\", \"4619\", \"4640\", \"4643\", \"4644\", \"4659\", \"4660\",\"46611\",)\n",
    "ARDS_list = ('51881', '51882', '51884', '51851', '51852', '51853', '769')\n",
    "# df = pd.read_sql_query(query, con)\n",
    "df = pd.read_sql_query(query.format(ARDS_list=ARDS_list), con)\n",
    "print(\"Number of rows :\", len(df))\n",
    "# ARDS_hadm = np.unique(df[\"hadm_id\"])\n",
    "with pd.option_context('display.max_colwidth', 400):\n",
    "    display(df.head(50))"
   ]
  },
  {
   "cell_type": "code",
   "execution_count": 3,
   "id": "12e250a2-473c-4d18-8a5b-bb05b43bd69d",
   "metadata": {
    "ExecuteTime": {
     "end_time": "2024-09-03T07:57:09.216477Z",
     "start_time": "2024-09-03T07:57:09.192843Z"
    }
   },
   "outputs": [
    {
     "name": "stdout",
     "output_type": "stream",
     "text": [
      "Number of rows : 4\n"
     ]
    },
    {
     "data": {
      "text/html": [
       "<div>\n",
       "<style scoped>\n",
       "    .dataframe tbody tr th:only-of-type {\n",
       "        vertical-align: middle;\n",
       "    }\n",
       "\n",
       "    .dataframe tbody tr th {\n",
       "        vertical-align: top;\n",
       "    }\n",
       "\n",
       "    .dataframe thead th {\n",
       "        text-align: right;\n",
       "    }\n",
       "</style>\n",
       "<table border=\"1\" class=\"dataframe\">\n",
       "  <thead>\n",
       "    <tr style=\"text-align: right;\">\n",
       "      <th></th>\n",
       "      <th>icd9_code</th>\n",
       "      <th>n_patients</th>\n",
       "      <th>long_title</th>\n",
       "    </tr>\n",
       "  </thead>\n",
       "  <tbody>\n",
       "    <tr>\n",
       "      <th>0</th>\n",
       "      <td>51881</td>\n",
       "      <td>2908</td>\n",
       "      <td>Acute respiratory failure</td>\n",
       "    </tr>\n",
       "    <tr>\n",
       "      <th>1</th>\n",
       "      <td>51882</td>\n",
       "      <td>408</td>\n",
       "      <td>Other pulmonary insufficiency, not elsewhere classified</td>\n",
       "    </tr>\n",
       "    <tr>\n",
       "      <th>2</th>\n",
       "      <td>51884</td>\n",
       "      <td>342</td>\n",
       "      <td>Acute and chronic respiratory failure</td>\n",
       "    </tr>\n",
       "    <tr>\n",
       "      <th>3</th>\n",
       "      <td>769</td>\n",
       "      <td>1313</td>\n",
       "      <td>Respiratory distress syndrome in newborn</td>\n",
       "    </tr>\n",
       "    <tr>\n",
       "      <th>0</th>\n",
       "      <td>total</td>\n",
       "      <td>46520</td>\n",
       "      <td>All</td>\n",
       "    </tr>\n",
       "  </tbody>\n",
       "</table>\n",
       "</div>"
      ],
      "text/plain": [
       "  icd9_code  n_patients  \\\n",
       "0     51881        2908   \n",
       "1     51882         408   \n",
       "2     51884         342   \n",
       "3       769        1313   \n",
       "0     total       46520   \n",
       "\n",
       "                                                long_title  \n",
       "0                                Acute respiratory failure  \n",
       "1  Other pulmonary insufficiency, not elsewhere classified  \n",
       "2                    Acute and chronic respiratory failure  \n",
       "3                 Respiratory distress syndrome in newborn  \n",
       "0                                                      All  "
      ]
     },
     "metadata": {},
     "output_type": "display_data"
    }
   ],
   "source": [
    "query = query_schema + \"\"\"\n",
    "SELECT D_ICD_DIAGNOSES.icd9_code, D_ICD_DIAGNOSES.long_title, COUNT(*)\n",
    "FROM DIAGNOSES_ICD\n",
    "JOIN D_ICD_DIAGNOSES ON D_ICD_DIAGNOSES.icd9_code = DIAGNOSES_ICD.icd9_code\n",
    "WHERE D_ICD_DIAGNOSES.icd9_code in {ARDS_list}\n",
    "GROUP BY D_ICD_DIAGNOSES.icd9_code\n",
    "\"\"\"\n",
    "\n",
    "query = query_schema + \"\"\"\n",
    "CREATE TEMP TABLE ARDS_COUNTS AS\n",
    "SELECT D_ICD_DIAGNOSES.icd9_code, count as n_patients, long_title\n",
    "FROM (SELECT icd9_code, COUNT(*)\n",
    "      FROM DIAGNOSES_ICD\n",
    "      WHERE icd9_code in {ARDS_list}\n",
    "      GROUP BY icd9_code) AS subquery\n",
    "JOIN D_ICD_DIAGNOSES ON D_ICD_DIAGNOSES.icd9_code = subquery.icd9_code\n",
    "\"\"\"\n",
    "\n",
    "\n",
    "# query = query_schema + \"\"\"\n",
    "# SELECT *\n",
    "# FROM DIAGNOSES_ICD\n",
    "# JOIN D_ICD_DIAGNOSES ON D_ICD_DIAGNOSES.icd9_code = DIAGNOSES_ICD.icd9_code\n",
    "# WHERE D_ICD_DIAGNOSES.icd9_code in {ARDS_list}\n",
    "# \"\"\"\n",
    "\n",
    "# ARDS_list = (\"469\", \"51882\", \"5185\", \"460\", \"461\", \"462\", \"463\", \"464\", \"465\", \"466\", \"465\", \"4611\", \"4619\", \"4640\", \"4643\", \"4644\", \"4659\", \"4660\",\"46611\",)\n",
    "# ARDS_list = ('51882', '0')\n",
    "# print(ARDS_list)\n",
    "# print(query)\n",
    "# con.rollback()\n",
    "cur = con.cursor()\n",
    "cur.execute(\"DROP TABLE IF EXISTS ARDS_COUNTS\")\n",
    "cur.execute(query.format(ARDS_list=ARDS_list))\n",
    "df = pd.read_sql_query(\"SELECT * FROM ARDS_COUNTS\", con)\n",
    "print(\"Number of rows :\", len(df))\n",
    "# ARDS_hadm = np.unique(df[\"hadm_id\"])\n",
    "df = pd.concat((df, pd.DataFrame({'icd9_code':['total'], 'n_patients':[46520], 'long_title':['All']})))\n",
    "# df = \n",
    "with pd.option_context('display.max_colwidth', 400):\n",
    "    display(df.head(50))"
   ]
  },
  {
   "cell_type": "code",
   "execution_count": 4,
   "id": "4d882d83-4a20-46e9-b84c-b8dcb743f5fd",
   "metadata": {
    "ExecuteTime": {
     "end_time": "2024-09-03T07:58:26.574765Z",
     "start_time": "2024-09-03T07:58:26.296984Z"
    }
   },
   "outputs": [
    {
     "name": "stdout",
     "output_type": "stream",
     "text": [
      "Number of rows : 214992\n"
     ]
    },
    {
     "data": {
      "text/html": [
       "<div>\n",
       "<style scoped>\n",
       "    .dataframe tbody tr th:only-of-type {\n",
       "        vertical-align: middle;\n",
       "    }\n",
       "\n",
       "    .dataframe tbody tr th {\n",
       "        vertical-align: top;\n",
       "    }\n",
       "\n",
       "    .dataframe thead th {\n",
       "        text-align: right;\n",
       "    }\n",
       "</style>\n",
       "<table border=\"1\" class=\"dataframe\">\n",
       "  <thead>\n",
       "    <tr style=\"text-align: right;\">\n",
       "      <th></th>\n",
       "      <th>row_id</th>\n",
       "      <th>subject_id</th>\n",
       "      <th>hadm_id</th>\n",
       "      <th>seq_num</th>\n",
       "      <th>icd9_code</th>\n",
       "      <th>row_id</th>\n",
       "      <th>icd9_code</th>\n",
       "      <th>short_title</th>\n",
       "      <th>long_title</th>\n",
       "    </tr>\n",
       "  </thead>\n",
       "  <tbody>\n",
       "    <tr>\n",
       "      <th>0</th>\n",
       "      <td>1</td>\n",
       "      <td>2</td>\n",
       "      <td>163353</td>\n",
       "      <td>1</td>\n",
       "      <td>V3001</td>\n",
       "      <td>13695</td>\n",
       "      <td>V3001</td>\n",
       "      <td>Single lb in-hosp w cs</td>\n",
       "      <td>Single liveborn, born in hospital, delivered b...</td>\n",
       "    </tr>\n",
       "    <tr>\n",
       "      <th>1</th>\n",
       "      <td>2</td>\n",
       "      <td>2</td>\n",
       "      <td>163353</td>\n",
       "      <td>2</td>\n",
       "      <td>V053</td>\n",
       "      <td>12202</td>\n",
       "      <td>V053</td>\n",
       "      <td>Need prphyl vc vrl hepat</td>\n",
       "      <td>Need for prophylactic vaccination and inoculat...</td>\n",
       "    </tr>\n",
       "    <tr>\n",
       "      <th>2</th>\n",
       "      <td>3</td>\n",
       "      <td>2</td>\n",
       "      <td>163353</td>\n",
       "      <td>3</td>\n",
       "      <td>V290</td>\n",
       "      <td>13688</td>\n",
       "      <td>V290</td>\n",
       "      <td>NB obsrv suspct infect</td>\n",
       "      <td>Observation for suspected infectious condition</td>\n",
       "    </tr>\n",
       "    <tr>\n",
       "      <th>3</th>\n",
       "      <td>4</td>\n",
       "      <td>3</td>\n",
       "      <td>145834</td>\n",
       "      <td>1</td>\n",
       "      <td>0389</td>\n",
       "      <td>660</td>\n",
       "      <td>0389</td>\n",
       "      <td>Septicemia NOS</td>\n",
       "      <td>Unspecified septicemia</td>\n",
       "    </tr>\n",
       "    <tr>\n",
       "      <th>4</th>\n",
       "      <td>5</td>\n",
       "      <td>3</td>\n",
       "      <td>145834</td>\n",
       "      <td>2</td>\n",
       "      <td>78559</td>\n",
       "      <td>12992</td>\n",
       "      <td>78559</td>\n",
       "      <td>Shock w/o trauma NEC</td>\n",
       "      <td>Other shock without mention of trauma</td>\n",
       "    </tr>\n",
       "  </tbody>\n",
       "</table>\n",
       "</div>"
      ],
      "text/plain": [
       "   row_id  subject_id  hadm_id  seq_num icd9_code  row_id icd9_code  \\\n",
       "0       1           2   163353        1     V3001   13695     V3001   \n",
       "1       2           2   163353        2      V053   12202      V053   \n",
       "2       3           2   163353        3      V290   13688      V290   \n",
       "3       4           3   145834        1      0389     660      0389   \n",
       "4       5           3   145834        2     78559   12992     78559   \n",
       "\n",
       "                short_title                                         long_title  \n",
       "0    Single lb in-hosp w cs  Single liveborn, born in hospital, delivered b...  \n",
       "1  Need prphyl vc vrl hepat  Need for prophylactic vaccination and inoculat...  \n",
       "2    NB obsrv suspct infect     Observation for suspected infectious condition  \n",
       "3            Septicemia NOS                             Unspecified septicemia  \n",
       "4      Shock w/o trauma NEC              Other shock without mention of trauma  "
      ]
     },
     "execution_count": 4,
     "metadata": {},
     "output_type": "execute_result"
    }
   ],
   "source": [
    "query = query_schema + \"\"\"\n",
    "SELECT *\n",
    "FROM DIAGNOSES_ICD\n",
    "JOIN D_ICD_DIAGNOSES ON D_ICD_DIAGNOSES.icd9_code = DIAGNOSES_ICD.icd9_code\n",
    "WHERE D_ICD_DIAGNOSES.icd9_code NOT IN {ARDS_list}\n",
    "\"\"\"\n",
    "\n",
    "# ARDS_list = (\"469\", \"51882\", \"5185\", \"460\", \"461\", \"462\", \"463\", \"464\", \"465\", \"466\", \"465\", \"4610\", \"4611\", \"4619\", \"4640\", \"4643\", \"4644\", \"4659\", \"4660\",\"46611\",)\n",
    "ARDS_list = ('51882', '0')\n",
    "df = pd.read_sql_query(query.format(ARDS_list=ARDS_list), con)\n",
    "print(\"Number of rows :\", len(df))\n",
    "ARDS_hadm = np.unique(df[\"hadm_id\"])\n",
    "df.head()"
   ]
  },
  {
   "cell_type": "code",
   "execution_count": 5,
   "id": "ef5fa4e7-7e76-41b1-9ad9-382dfc189151",
   "metadata": {
    "ExecuteTime": {
     "end_time": "2024-09-03T07:58:57.363849Z",
     "start_time": "2024-09-03T07:58:57.361257Z"
    }
   },
   "outputs": [],
   "source": [
    "normal_hadm = np.random.choice(ARDS_hadm, size=len(ARDS_hadm), replace=False)"
   ]
  },
  {
   "cell_type": "code",
   "execution_count": 6,
   "id": "5859864a-27d2-4b48-8c86-d99819cd3cec",
   "metadata": {
    "ExecuteTime": {
     "end_time": "2024-09-03T07:58:58.599280Z",
     "start_time": "2024-09-03T07:58:58.487429Z"
    }
   },
   "outputs": [
    {
     "name": "stdout",
     "output_type": "stream",
     "text": [
      "Number of rows : 28383\n"
     ]
    },
    {
     "data": {
      "text/plain": [
       "(0.0, 100.0)"
      ]
     },
     "execution_count": 6,
     "metadata": {},
     "output_type": "execute_result"
    },
    {
     "data": {
      "image/png": "[encoded data removed]",
      "text/plain": [
       "<Figure size 640x480 with 1 Axes>"
      ]
     },
     "metadata": {},
     "output_type": "display_data"
    }
   ],
   "source": [
    "query = query_schema + \"\"\"\n",
    "SELECT los, hadm_id\n",
    "FROM ICUSTAYS\n",
    "WHERE hadm_id IN {ARDS_hadm}\n",
    "\"\"\"\n",
    "\n",
    "# ARDS_list = (\"469\", \"51882\", \"5185\", \"460\", \"461\", \"462\", \"463\", \"464\", \"465\", \"466\", \"465\", \"4610\", \"4611\", \"4619\", \"4640\", \"4643\", \"4644\", \"4659\", \"4660\",\"46611\",)\n",
    "# ARDS_list = ('51882', '0')\n",
    "# df = pd.read_sql_query(query, con)\n",
    "df = pd.read_sql_query(query.format(ARDS_hadm=tuple(ARDS_hadm)), con)\n",
    "print(\"Number of rows :\", len(df))\n",
    "# normal_hadm = np.unique(df[\"hadm_id\"])\n",
    "df.head()\n",
    "plt.hist(df['los'], 30)\n",
    "plt.xlim([0, 100])"
   ]
  },
  {
   "cell_type": "code",
   "execution_count": 7,
   "id": "38d38dec-255a-40bd-8aa6-ffec9012d4c8",
   "metadata": {
    "ExecuteTime": {
     "end_time": "2024-09-03T07:59:01.638711Z",
     "start_time": "2024-09-03T07:59:01.529076Z"
    }
   },
   "outputs": [
    {
     "name": "stdout",
     "output_type": "stream",
     "text": [
      "Number of rows : 28383\n"
     ]
    },
    {
     "data": {
      "text/plain": [
       "(0.0, 100.0)"
      ]
     },
     "execution_count": 7,
     "metadata": {},
     "output_type": "execute_result"
    },
    {
     "data": {
      "image/png": "[encoded data removed]",
      "text/plain": [
       "<Figure size 640x480 with 1 Axes>"
      ]
     },
     "metadata": {},
     "output_type": "display_data"
    }
   ],
   "source": [
    "query = query_schema + \"\"\"\n",
    "SELECT los, hadm_id\n",
    "FROM ICUSTAYS\n",
    "WHERE hadm_id IN {hadm}\n",
    "\"\"\"\n",
    "\n",
    "# ARDS_list = (\"469\", \"51882\", \"5185\", \"460\", \"461\", \"462\", \"463\", \"464\", \"465\", \"466\", \"465\", \"4610\", \"4611\", \"4619\", \"4640\", \"4643\", \"4644\", \"4659\", \"4660\",\"46611\",)\n",
    "# ARDS_list = ('51882', '0')\n",
    "# df = pd.read_sql_query(query, con)\n",
    "df = pd.read_sql_query(query.format(hadm=tuple(normal_hadm)), con)\n",
    "print(\"Number of rows :\", len(df))\n",
    "df.head()\n",
    "plt.hist(df['los'], 30)\n",
    "plt.xlim([0, 100])"
   ]
  },
  {
   "cell_type": "code",
   "execution_count": null,
   "id": "c9aadfaa-a294-43b8-add8-1d509c62c8fe",
   "metadata": {},
   "outputs": [],
   "source": []
  }
 ],
 "metadata": {
  "kernelspec": {
   "display_name": "Python 3 (ipykernel)",
   "language": "python",
   "name": "python3"
  },
  "language_info": {
   "codemirror_mode": {
    "name": "ipython",
    "version": 3
   },
   "file_extension": ".py",
   "mimetype": "text/x-python",
   "name": "python",
   "nbconvert_exporter": "python",
   "pygments_lexer": "ipython3",
   "version": "3.10.14"
  }
 },
 "nbformat": 4,
 "nbformat_minor": 5
}
