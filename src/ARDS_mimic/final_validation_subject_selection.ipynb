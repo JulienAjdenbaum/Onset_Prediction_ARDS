{
 "cells": [
  {
   "cell_type": "code",
   "execution_count": 1,
   "id": "fb09fe7e-0c07-4d1b-9240-e53a0e122382",
   "metadata": {},
   "outputs": [],
   "source": [
    "# Import libraries\n",
    "import numpy as np\n",
    "import pandas as pd\n",
    "import matplotlib.pyplot as plt\n",
    "import psycopg2\n",
    "\n",
    "# below imports are used to print out pretty pandas dataframes\n",
    "from IPython.display import display, HTML\n",
    "from sklearn.model_selection import train_test_split\n",
    "\n",
    "%matplotlib inline\n",
    "plt.style.use('ggplot')\n",
    "\n",
    "# information used to create a database connection\n",
    "sqluser = 'postgres'\n",
    "dbname = 'mimic'\n",
    "schema_name = 'mimiciii'\n",
    "\n",
    "# Connect to postgres with a copy of the MIMIC-III database\n",
    "con = psycopg2.connect(dbname=dbname, user=sqluser, password=sqluser)\n",
    "\n",
    "# the below statement is prepended to queries to ensure they select from the right schema\n",
    "query_schema = 'set search_path to ' + schema_name + ';'"
   ]
  },
  {
   "cell_type": "markdown",
   "id": "b2d087e2-a1b5-48f8-8f3d-55acb1098e3a",
   "metadata": {},
   "source": [
    "Let's take 20% of all patients, that we will keep for **final** assessment of a method"
   ]
  },
  {
   "cell_type": "code",
   "execution_count": 2,
   "id": "bb26ec7f-0bd9-4c4f-b8d6-638a1cfae6bb",
   "metadata": {},
   "outputs": [
    {
     "name": "stderr",
     "output_type": "stream",
     "text": [
      "/tmp/ipykernel_16637/2510559973.py:6: UserWarning: pandas only supports SQLAlchemy connectable (engine/connection) or database string URI or sqlite3 DBAPI2 connection. Other DBAPI2 objects are not tested. Please consider using SQLAlchemy.\n",
      "  df = pd.read_sql_query(query, con)\n"
     ]
    },
    {
     "data": {
      "text/html": [
       "<div>\n",
       "<style scoped>\n",
       "    .dataframe tbody tr th:only-of-type {\n",
       "        vertical-align: middle;\n",
       "    }\n",
       "\n",
       "    .dataframe tbody tr th {\n",
       "        vertical-align: top;\n",
       "    }\n",
       "\n",
       "    .dataframe thead th {\n",
       "        text-align: right;\n",
       "    }\n",
       "</style>\n",
       "<table border=\"1\" class=\"dataframe\">\n",
       "  <thead>\n",
       "    <tr style=\"text-align: right;\">\n",
       "      <th></th>\n",
       "      <th>subject_id</th>\n",
       "      <th>is_validation</th>\n",
       "    </tr>\n",
       "  </thead>\n",
       "  <tbody>\n",
       "    <tr>\n",
       "      <th>13998</th>\n",
       "      <td>17512</td>\n",
       "      <td>False</td>\n",
       "    </tr>\n",
       "    <tr>\n",
       "      <th>13938</th>\n",
       "      <td>17438</td>\n",
       "      <td>False</td>\n",
       "    </tr>\n",
       "    <tr>\n",
       "      <th>23048</th>\n",
       "      <td>31303</td>\n",
       "      <td>False</td>\n",
       "    </tr>\n",
       "    <tr>\n",
       "      <th>22504</th>\n",
       "      <td>29909</td>\n",
       "      <td>False</td>\n",
       "    </tr>\n",
       "    <tr>\n",
       "      <th>7607</th>\n",
       "      <td>9538</td>\n",
       "      <td>False</td>\n",
       "    </tr>\n",
       "  </tbody>\n",
       "</table>\n",
       "</div>"
      ],
      "text/plain": [
       "       subject_id  is_validation\n",
       "13998       17512          False\n",
       "13938       17438          False\n",
       "23048       31303          False\n",
       "22504       29909          False\n",
       "7607         9538          False"
      ]
     },
     "execution_count": 2,
     "metadata": {},
     "output_type": "execute_result"
    }
   ],
   "source": [
    "query = query_schema + \"\"\"\n",
    "SELECT DISTINCT subject_id\n",
    "FROM icustays\n",
    "\"\"\"\n",
    "\n",
    "df = pd.read_sql_query(query, con)\n",
    "\n",
    "df_main, df_validation = train_test_split(df, test_size = 0.2, random_state=0)\n",
    "\n",
    "df_main.to_csv(\"patient_list_main.csv\", index=False)\n",
    "df_validation.to_csv(\"patient_list_final_validation.csv\", index=False)\n",
    "\n",
    "df_main[\"is_validation\"] = False\n",
    "df_validation[\"is_validation\"] = True\n",
    "\n",
    "df_final = pd.concat((df_main, df_validation))\n",
    "\n",
    "df_final.head()"
   ]
  },
  {
   "cell_type": "code",
   "execution_count": 5,
   "id": "c1531895-e753-45c7-97b7-228ac52d4bc8",
   "metadata": {},
   "outputs": [
    {
     "name": "stdout",
     "output_type": "stream",
     "text": [
      "Table final_validation_subjects already exists\n"
     ]
    }
   ],
   "source": [
    "try:\n",
    "    cur = con.cursor()\n",
    "    \n",
    "    create_table_query = query_schema + \"\"\"\n",
    "    CREATE TABLE final_validation_subjects (\n",
    "        subject_id integer,\n",
    "        is_validation bool\n",
    "    );\n",
    "    \"\"\"\n",
    "    \n",
    "    try:\n",
    "        cur.execute(create_table_query)\n",
    "    except psycopg2.errors.DuplicateTable:\n",
    "        print(\"Table final_validation_subjects already exists\")\n",
    "        con.rollback()\n",
    "    cur.close()\n",
    "\n",
    "    cur = con.cursor()\n",
    "    insert_query = query_schema + \"\"\"\n",
    "    INSERT INTO final_validation_subjects (subject_id, is_validation)\n",
    "    VALUES (%s, %s);\n",
    "    \"\"\"\n",
    "    \n",
    "    pars = df_final.values.tolist()\n",
    "    pars = list(map(tuple, pars))\n",
    "    cur.executemany(insert_query, pars)\n",
    "    cur.execute(\"SELECT * FROM final_validation_subjects LIMIT 10\")\n",
    "    \n",
    "    con.commit()\n",
    "    con.close()\n",
    "    # cur.close()\n",
    "\n",
    "except psycopg2.Error as e:\n",
    "    print(f\"An error occurred: {e}\")\n",
    "    # Roll back the current transaction\n",
    "    con.rollback()"
   ]
  },
  {
   "cell_type": "code",
   "execution_count": 8,
   "id": "60253618-46ff-455c-acb7-19608d9b7d38",
   "metadata": {},
   "outputs": [
    {
     "name": "stderr",
     "output_type": "stream",
     "text": [
      "/tmp/ipykernel_16637/1679566991.py:7: UserWarning: pandas only supports SQLAlchemy connectable (engine/connection) or database string URI or sqlite3 DBAPI2 connection. Other DBAPI2 objects are not tested. Please consider using SQLAlchemy.\n",
      "  df = pd.read_sql_query(query, con)\n"
     ]
    },
    {
     "data": {
      "text/html": [
       "<div>\n",
       "<style scoped>\n",
       "    .dataframe tbody tr th:only-of-type {\n",
       "        vertical-align: middle;\n",
       "    }\n",
       "\n",
       "    .dataframe tbody tr th {\n",
       "        vertical-align: top;\n",
       "    }\n",
       "\n",
       "    .dataframe thead th {\n",
       "        text-align: right;\n",
       "    }\n",
       "</style>\n",
       "<table border=\"1\" class=\"dataframe\">\n",
       "  <thead>\n",
       "    <tr style=\"text-align: right;\">\n",
       "      <th></th>\n",
       "      <th>subject_id</th>\n",
       "      <th>is_validation</th>\n",
       "    </tr>\n",
       "  </thead>\n",
       "  <tbody>\n",
       "    <tr>\n",
       "      <th>0</th>\n",
       "      <td>17512</td>\n",
       "      <td>False</td>\n",
       "    </tr>\n",
       "    <tr>\n",
       "      <th>1</th>\n",
       "      <td>17438</td>\n",
       "      <td>False</td>\n",
       "    </tr>\n",
       "    <tr>\n",
       "      <th>2</th>\n",
       "      <td>31303</td>\n",
       "      <td>False</td>\n",
       "    </tr>\n",
       "    <tr>\n",
       "      <th>3</th>\n",
       "      <td>29909</td>\n",
       "      <td>False</td>\n",
       "    </tr>\n",
       "    <tr>\n",
       "      <th>4</th>\n",
       "      <td>9538</td>\n",
       "      <td>False</td>\n",
       "    </tr>\n",
       "  </tbody>\n",
       "</table>\n",
       "</div>"
      ],
      "text/plain": [
       "   subject_id  is_validation\n",
       "0       17512          False\n",
       "1       17438          False\n",
       "2       31303          False\n",
       "3       29909          False\n",
       "4        9538          False"
      ]
     },
     "execution_count": 8,
     "metadata": {},
     "output_type": "execute_result"
    }
   ],
   "source": [
    "con = psycopg2.connect(dbname=dbname, user=sqluser, password=sqluser)\n",
    "query = query_schema + \"\"\"\n",
    "SELECT *\n",
    "FROM final_validation_subjects\n",
    "\"\"\"\n",
    "\n",
    "df = pd.read_sql_query(query, con)\n",
    "df.head()"
   ]
  }
 ],
 "metadata": {
  "kernelspec": {
   "display_name": "Python 3 (ipykernel)",
   "language": "python",
   "name": "python3"
  },
  "language_info": {
   "codemirror_mode": {
    "name": "ipython",
    "version": 3
   },
   "file_extension": ".py",
   "mimetype": "text/x-python",
   "name": "python",
   "nbconvert_exporter": "python",
   "pygments_lexer": "ipython3",
   "version": "3.10.14"
  }
 },
 "nbformat": 4,
 "nbformat_minor": 5
}
