{
 "cells": [
  {
   "metadata": {
    "ExecuteTime": {
     "end_time": "2024-09-13T17:02:53.186122Z",
     "start_time": "2024-09-13T17:02:52.750021Z"
    }
   },
   "cell_type": "code",
   "source": [
    "import os\n",
    "os.chdir(\"/home/julien/Documents/stage\")\n",
    "from src.utils.db_utils import run_query\n",
    "# from src.utils.patient import Patient\n",
    "import time\n",
    "import pandas as pd\n",
    "import json\n",
    "from datetime import datetime\n",
    "from importlib import reload \n",
    "from src.utils.patient import Patient"
   ],
   "id": "895e9b5d3198b178",
   "outputs": [],
   "execution_count": 1
  },
  {
   "metadata": {
    "ExecuteTime": {
     "end_time": "2024-09-13T17:02:53.194996Z",
     "start_time": "2024-09-13T17:02:53.191806Z"
    }
   },
   "cell_type": "code",
   "source": "hadm_ids = [100108]",
   "id": "5d87a00b434c1b99",
   "outputs": [],
   "execution_count": 2
  },
  {
   "metadata": {
    "ExecuteTime": {
     "end_time": "2024-09-13T17:03:01.822540Z",
     "start_time": "2024-09-13T17:02:53.237866Z"
    }
   },
   "cell_type": "code",
   "source": [
    "time_start = time.time()\n",
    "\n",
    "query = \"\"\"\n",
    "SELECT *\n",
    "FROM CHARTEVENTS\n",
    "JOIN D_ITEMS ON CHARTEVENTS.itemid = D_ITEMS.itemid\n",
    "WHERE hadm_id IN %(hadm_ids)s\n",
    "\"\"\"\n",
    "\n",
    "df_patients = run_query(query, {\"hadm_ids\": tuple(hadm_ids)})"
   ],
   "id": "91dbce1c0bae16f",
   "outputs": [],
   "execution_count": 3
  },
  {
   "metadata": {
    "ExecuteTime": {
     "end_time": "2024-09-13T17:03:01.843898Z",
     "start_time": "2024-09-13T17:03:01.841148Z"
    }
   },
   "cell_type": "code",
   "source": "save_path = \"/home/julien/Documents/stage/data/MIMIC/cohorts_new\"",
   "id": "3bf6862b1d812d7d",
   "outputs": [],
   "execution_count": 4
  },
  {
   "metadata": {
    "ExecuteTime": {
     "end_time": "2024-09-13T17:03:01.913681Z",
     "start_time": "2024-09-13T17:03:01.890814Z"
    }
   },
   "cell_type": "code",
   "source": [
    "def timestamp_to_string(timestamp):\n",
    "    \"\"\"\n",
    "    Convert a timestamp (datetime object) to a string in ISO format.\n",
    "    \"\"\"\n",
    "    return timestamp.isoformat() if isinstance(timestamp, datetime) else None\n",
    "\n",
    "def string_to_timestamp(timestamp_str):\n",
    "    \"\"\"\n",
    "    Convert a string in ISO format back to a datetime object.\n",
    "    \"\"\"\n",
    "    return datetime.fromisoformat(timestamp_str) if timestamp_str else None\n",
    "\n",
    "def get_diagnoses(hadm_id):\n",
    "    query = \"\"\"\n",
    "        SELECT long_title\n",
    "        FROM DIAGNOSES_ICD\n",
    "        JOIN D_ICD_DIAGNOSES ON DIAGNOSES_ICD.icd9_code = D_ICD_DIAGNOSES.icd9_code\n",
    "        WHERE hadm_id = %(hadm_id)s\n",
    "        \"\"\"\n",
    "    return list(run_query(query, {\"hadm_id\": hadm_id}))\n",
    "\n",
    "\n",
    "class Patient:\n",
    "    def __init__(self, df: pd.DataFrame, root_path):\n",
    "        print(\"starting patient creation\")\n",
    "        self.subject_id = int(df.iloc[0][\"subject_id\"])\n",
    "        self.hadm_id = int(df.iloc[0][\"hadm_id\"])\n",
    "        print(self.subject_id)\n",
    "        print(root_path)\n",
    "        print(self.hadm_id)\n",
    "        self.main_path = os.path.join(root_path, str(self.subject_id), str(self.hadm_id))\n",
    "        self.save_path = os.path.join(self.main_path, \"data\")\n",
    "        self.diagnoses = get_diagnoses(self.hadm_id)\n",
    "\n",
    "        print(\"Middle\")\n",
    "\n",
    "        if not os.path.exists(os.path.join(root_path, str(self.subject_id))):\n",
    "            os.makedirs(os.path.join(root_path, str(self.subject_id)))\n",
    "        if not os.path.exists(self.main_path):\n",
    "            os.makedirs(self.main_path)\n",
    "        if not os.path.exists(self.save_path):\n",
    "            os.makedirs(self.save_path)\n",
    "        self.time_start = df[\"charttime\"].min()\n",
    "\n",
    "        rows = []\n",
    "\n",
    "        for index, row in df.iterrows():\n",
    "            # print(row)\n",
    "            time_feature = (row[\"charttime\"] - self.time_start).total_seconds() / 3600\n",
    "            label = row[\"label\"]\n",
    "            value = row[\"value\"]\n",
    "            rows.append(({\"patient_id\": self.subject_id, \"hadm_id\": self.hadm_id,\n",
    "                          \"time\": time_feature, label: value}))\n",
    "\n",
    "        df = pd.DataFrame(rows).sort_values(by=\"time\").reset_index(drop=True)\n",
    "        self.raw_df = df.ffill()\n",
    "\n",
    "        print(\"ending patient creation\")\n",
    "        self.save_raw_df()\n",
    "        self.save_infos()\n",
    "        self.add_patient_to_global_df(root_path)\n",
    "\n",
    "    def save_infos(self):\n",
    "        \"\"\"\n",
    "        Save the patient's data to the specified directory.\n",
    "        \"\"\"\n",
    "\n",
    "        # Save other patient information as JSON\n",
    "        patient_info = {\n",
    "            \"subject_id\": self.subject_id,\n",
    "            \"hadm_id\": self.hadm_id,\n",
    "            \"diagnoses\": self.diagnoses,\n",
    "            \"time_start\": timestamp_to_string(self.time_start)\n",
    "        }\n",
    "\n",
    "        with open(os.path.join(self.main_path, \"patient_info.json\"), \"w\") as f:\n",
    "            json.dump(patient_info, f, indent=4)\n",
    "\n",
    "    def save_raw_df(self):\n",
    "        self.raw_df.to_csv(os.path.join(self.save_path, \"raw_df.csv\"), index=False)\n",
    "\n",
    "    def add_patient_to_global_df(self, root_path):\n",
    "        csv_path = os.path.join(root_path, \"patients.csv\")\n",
    "        patient_dic = {\"subject_id\": self.subject_id,\n",
    "                       \"hadm_id\": self.hadm_id}\n",
    "        if not os.path.exists(csv_path):\n",
    "            pd.DataFrame([patient_dic]).to_csv(csv_path, index=False)\n",
    "        else:\n",
    "            pd.DataFrame([patient_dic]).to_csv(csv_path, index=False, mode=\"a\")\n",
    "    @classmethod\n",
    "    def load(cls, load_dir):\n",
    "        \"\"\"\n",
    "        Load the patient's data from the specified directory.\n",
    "        \"\"\"\n",
    "        # Load patient information\n",
    "        with open(os.path.join(load_dir, \"patient_info.json\"), \"r\") as f:\n",
    "            patient_info = json.load(f)\n",
    "        \n",
    "        patient_info[\"time_start\"] = string_to_timestamp(patient_info[\"time_start\"])\n",
    "        # Load medical data\n",
    "        medical_data_path = os.path.join(load_dir, \"medical_data.csv\")\n",
    "        medical_data = pd.read_csv(medical_data_path) if os.path.exists(medical_data_path) else pd.DataFrame()\n",
    "\n",
    "        # Return an instance of the Patient class\n",
    "        return cls(\n",
    "            patient_id=patient_info[\"patient_id\"],\n",
    "            encounter_id=patient_info[\"encounter_id\"],\n",
    "            hadm_id=patient_info[\"hadm_id\"],\n",
    "            diagnoses=patient_info.get(\"diagnoses\", []),\n",
    "            medical_data=medical_data\n",
    "        )\n",
    "\n",
    "    def __repr__(self):\n",
    "        return f\"Patient(patient_id={self.patient_id}, encounter_id={self.encounter_id}, hadm_id={self.hadm_id})\""
   ],
   "id": "89fc0a021f5a7b7a",
   "outputs": [],
   "execution_count": 5
  },
  {
   "metadata": {
    "ExecuteTime": {
     "end_time": "2024-09-13T17:03:12.126018Z",
     "start_time": "2024-09-13T17:03:09.591705Z"
    }
   },
   "cell_type": "code",
   "source": [
    "print(f\"SQL request done in {time.time() - time_start} seconds\")\n",
    "print(hadm_ids)\n",
    "\n",
    "for i, hadm_id in enumerate(hadm_ids):\n",
    "    df_patient = df_patients[df_patients[\"hadm_id\"] == hadm_id]\n",
    "    Patient(df_patient, save_path)"
   ],
   "id": "e91cf2e1bc417461",
   "outputs": [
    {
     "name": "stdout",
     "output_type": "stream",
     "text": [
      "SQL request done in 16.354612112045288 seconds\n",
      "[100108]\n",
      "starting patient creation\n",
      "20587\n",
      "/home/julien/Documents/stage/data/MIMIC/cohorts_new\n",
      "100108\n",
      "Middle\n",
      "ending patient creation\n"
     ]
    }
   ],
   "execution_count": 7
  },
  {
   "metadata": {},
   "cell_type": "code",
   "outputs": [],
   "execution_count": null,
   "source": "",
   "id": "3a6692eafbbd83e3"
  }
 ],
 "metadata": {
  "kernelspec": {
   "display_name": "Python 3 (ipykernel)",
   "language": "python",
   "name": "python3"
  },
  "language_info": {
   "codemirror_mode": {
    "name": "ipython",
    "version": 3
   },
   "file_extension": ".py",
   "mimetype": "text/x-python",
   "name": "python",
   "nbconvert_exporter": "python",
   "pygments_lexer": "ipython3",
   "version": "3.10.14"
  }
 },
 "nbformat": 4,
 "nbformat_minor": 5
}
