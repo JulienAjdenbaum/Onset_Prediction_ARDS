{
 "cells": [
  {
   "cell_type": "code",
   "execution_count": 3,
   "id": "initial_id",
   "metadata": {
    "collapsed": true,
    "ExecuteTime": {
     "end_time": "2024-07-17T20:33:11.572668400Z",
     "start_time": "2024-07-17T20:33:11.562927100Z"
    }
   },
   "outputs": [],
   "source": [
    "import pandas as pd\n",
    "import numpy as np\n",
    "from sklearn.preprocessing import StandardScaler\n",
    "import h5py"
   ]
  },
  {
   "cell_type": "code",
   "execution_count": 49,
   "outputs": [],
   "source": [
    "demographic_keys = ['age']\n",
    "\n",
    "EHR_keys_numerical = ['AST', 'Alb', 'BNP', 'BUN', 'Cr', 'HCO2', 'Hgb' , 'INR', 'K', 'Na', 'PEEP', 'PTT', 'Plat', 'Plt', 'RRobs', 'RRset', 'TP', 'Tbili', 'Vtobs', 'Vtset', 'WBC', 'dbp', 'fi02', 'hr', 'lactate', 'lipase', 'mAirP', 'pf', 'pf_calc', 'pCO2', 'pH', 'pO2', 'phenyl', 'rr', 'sbp', 'sp02', 'temp', 'trop', 'urine_out', 'dobu', 'vasso', 'dopa', 'epi', 'ffp_transf','iv_in','norepi', 'plt_transf', 'rass', 'rbc_transf']\n",
    "\n",
    "EHR_keys_categorical = ['alert', 'dialysis',   'hfnc', 'invasive',  'noninvasive', 'oriented', 'sedated', 'supl', 'unresponsive','gcs_eye', 'gcs_motor', 'gcs_total', 'gcs_verbal', 'mil']\n",
    "\n",
    "EHR_label = ['ards']\n",
    "EHR_identifiers = ['patient_id', 'time', 'encounter_id']\n",
    "\n",
    "EHR_keys = EHR_keys_numerical + EHR_keys_categorical"
   ],
   "metadata": {
    "collapsed": false,
    "ExecuteTime": {
     "end_time": "2024-07-17T21:08:10.429329100Z",
     "start_time": "2024-07-17T21:08:10.409330100Z"
    }
   },
   "id": "ed3757ed41d22bdd"
  },
  {
   "cell_type": "code",
   "execution_count": 50,
   "outputs": [
    {
     "data": {
      "text/plain": "   patient_id  encounter_id      time   AST  Alb  BNP   BUN    Cr  HCO2   Hgb  \\\n0   100001001             1  0.000000   NaN  NaN  NaN   NaN   NaN   NaN   NaN   \n1   100001001             1  0.800000  23.0  3.8  NaN  17.0  0.75  21.0  11.6   \n2   100001001             1  0.983333  23.0  3.8  NaN  17.0  0.75  21.0  11.6   \n3   100001001             1  1.166667  23.0  3.8  NaN  17.0  0.75  21.0  11.6   \n4   100001001             1  3.350000  23.0  3.8  NaN  17.0  0.75  21.0  11.6   \n\n   ...  sedated  sp02  supl  temp  total_in  total_out  trop  unresponsive  \\\n0  ...      NaN  97.0   1.0  98.1       NaN        NaN   NaN           NaN   \n1  ...      NaN  97.0   1.0  98.1       NaN        NaN   NaN           NaN   \n2  ...      NaN  98.0   1.0  98.1       NaN        NaN   NaN           NaN   \n3  ...      0.0  98.0   1.0  98.1       NaN        NaN   NaN           0.0   \n4  ...      0.0  98.0   1.0  98.1       NaN        NaN   NaN           0.0   \n\n   urine_out  vasso  \n0        NaN    NaN  \n1        NaN    NaN  \n2        NaN    NaN  \n3        NaN    NaN  \n4        NaN    NaN  \n\n[5 rows x 69 columns]",
      "text/html": "<div>\n<style scoped>\n    .dataframe tbody tr th:only-of-type {\n        vertical-align: middle;\n    }\n\n    .dataframe tbody tr th {\n        vertical-align: top;\n    }\n\n    .dataframe thead th {\n        text-align: right;\n    }\n</style>\n<table border=\"1\" class=\"dataframe\">\n  <thead>\n    <tr style=\"text-align: right;\">\n      <th></th>\n      <th>patient_id</th>\n      <th>encounter_id</th>\n      <th>time</th>\n      <th>AST</th>\n      <th>Alb</th>\n      <th>BNP</th>\n      <th>BUN</th>\n      <th>Cr</th>\n      <th>HCO2</th>\n      <th>Hgb</th>\n      <th>...</th>\n      <th>sedated</th>\n      <th>sp02</th>\n      <th>supl</th>\n      <th>temp</th>\n      <th>total_in</th>\n      <th>total_out</th>\n      <th>trop</th>\n      <th>unresponsive</th>\n      <th>urine_out</th>\n      <th>vasso</th>\n    </tr>\n  </thead>\n  <tbody>\n    <tr>\n      <th>0</th>\n      <td>100001001</td>\n      <td>1</td>\n      <td>0.000000</td>\n      <td>NaN</td>\n      <td>NaN</td>\n      <td>NaN</td>\n      <td>NaN</td>\n      <td>NaN</td>\n      <td>NaN</td>\n      <td>NaN</td>\n      <td>...</td>\n      <td>NaN</td>\n      <td>97.0</td>\n      <td>1.0</td>\n      <td>98.1</td>\n      <td>NaN</td>\n      <td>NaN</td>\n      <td>NaN</td>\n      <td>NaN</td>\n      <td>NaN</td>\n      <td>NaN</td>\n    </tr>\n    <tr>\n      <th>1</th>\n      <td>100001001</td>\n      <td>1</td>\n      <td>0.800000</td>\n      <td>23.0</td>\n      <td>3.8</td>\n      <td>NaN</td>\n      <td>17.0</td>\n      <td>0.75</td>\n      <td>21.0</td>\n      <td>11.6</td>\n      <td>...</td>\n      <td>NaN</td>\n      <td>97.0</td>\n      <td>1.0</td>\n      <td>98.1</td>\n      <td>NaN</td>\n      <td>NaN</td>\n      <td>NaN</td>\n      <td>NaN</td>\n      <td>NaN</td>\n      <td>NaN</td>\n    </tr>\n    <tr>\n      <th>2</th>\n      <td>100001001</td>\n      <td>1</td>\n      <td>0.983333</td>\n      <td>23.0</td>\n      <td>3.8</td>\n      <td>NaN</td>\n      <td>17.0</td>\n      <td>0.75</td>\n      <td>21.0</td>\n      <td>11.6</td>\n      <td>...</td>\n      <td>NaN</td>\n      <td>98.0</td>\n      <td>1.0</td>\n      <td>98.1</td>\n      <td>NaN</td>\n      <td>NaN</td>\n      <td>NaN</td>\n      <td>NaN</td>\n      <td>NaN</td>\n      <td>NaN</td>\n    </tr>\n    <tr>\n      <th>3</th>\n      <td>100001001</td>\n      <td>1</td>\n      <td>1.166667</td>\n      <td>23.0</td>\n      <td>3.8</td>\n      <td>NaN</td>\n      <td>17.0</td>\n      <td>0.75</td>\n      <td>21.0</td>\n      <td>11.6</td>\n      <td>...</td>\n      <td>0.0</td>\n      <td>98.0</td>\n      <td>1.0</td>\n      <td>98.1</td>\n      <td>NaN</td>\n      <td>NaN</td>\n      <td>NaN</td>\n      <td>0.0</td>\n      <td>NaN</td>\n      <td>NaN</td>\n    </tr>\n    <tr>\n      <th>4</th>\n      <td>100001001</td>\n      <td>1</td>\n      <td>3.350000</td>\n      <td>23.0</td>\n      <td>3.8</td>\n      <td>NaN</td>\n      <td>17.0</td>\n      <td>0.75</td>\n      <td>21.0</td>\n      <td>11.6</td>\n      <td>...</td>\n      <td>0.0</td>\n      <td>98.0</td>\n      <td>1.0</td>\n      <td>98.1</td>\n      <td>NaN</td>\n      <td>NaN</td>\n      <td>NaN</td>\n      <td>0.0</td>\n      <td>NaN</td>\n      <td>NaN</td>\n    </tr>\n  </tbody>\n</table>\n<p>5 rows × 69 columns</p>\n</div>"
     },
     "execution_count": 50,
     "metadata": {},
     "output_type": "execute_result"
    }
   ],
   "source": [
    "# Load the CSV file\n",
    "df = pd.read_csv(f'data/processed_ARDS_data.csv')\n",
    "\n",
    "# Sort by patient_id and time\n",
    "df = df.sort_values(['patient_id', 'time'])\n",
    "df.head()"
   ],
   "metadata": {
    "collapsed": false,
    "ExecuteTime": {
     "end_time": "2024-07-17T21:08:16.017719300Z",
     "start_time": "2024-07-17T21:08:12.395360700Z"
    }
   },
   "id": "51c08985f5fd3f7a"
  },
  {
   "cell_type": "code",
   "execution_count": 51,
   "outputs": [],
   "source": [
    "df[EHR_keys] = df.groupby('patient_id')[EHR_keys].ffill()\n",
    "df[EHR_keys] = df.groupby('patient_id')[EHR_keys].bfill()"
   ],
   "metadata": {
    "collapsed": false,
    "ExecuteTime": {
     "end_time": "2024-07-17T21:08:18.240866600Z",
     "start_time": "2024-07-17T21:08:16.020725400Z"
    }
   },
   "id": "f1df54643881a0f5"
  },
  {
   "cell_type": "code",
   "execution_count": 53,
   "outputs": [],
   "source": [
    "scaler = StandardScaler()\n",
    "df[EHR_keys_numerical] = scaler.fit_transform(df[EHR_keys_numerical])"
   ],
   "metadata": {
    "collapsed": false,
    "ExecuteTime": {
     "end_time": "2024-07-17T21:10:08.751110Z",
     "start_time": "2024-07-17T21:10:07.657298800Z"
    }
   },
   "id": "64a167fcc3e573f3"
  },
  {
   "cell_type": "code",
   "execution_count": 54,
   "outputs": [],
   "source": [
    "# Create an HDF5 file\n",
    "with h5py.File(r'data/ARDS_processed.h5', 'w') as hf:\n",
    "    for patient_id, group in df.groupby('patient_id'):\n",
    "        patient_group = hf.create_group(str(patient_id))\n",
    "        for column in group.columns:\n",
    "            patient_group.create_dataset(column, data=group[column])"
   ],
   "metadata": {
    "collapsed": false,
    "ExecuteTime": {
     "end_time": "2024-07-17T21:12:40.988825400Z",
     "start_time": "2024-07-17T21:12:21.914823200Z"
    }
   },
   "id": "a8af337a3383a628"
  }
 ],
 "metadata": {
  "kernelspec": {
   "display_name": "Python 3",
   "language": "python",
   "name": "python3"
  },
  "language_info": {
   "codemirror_mode": {
    "name": "ipython",
    "version": 2
   },
   "file_extension": ".py",
   "mimetype": "text/x-python",
   "name": "python",
   "nbconvert_exporter": "python",
   "pygments_lexer": "ipython2",
   "version": "2.7.6"
  }
 },
 "nbformat": 4,
 "nbformat_minor": 5
}
