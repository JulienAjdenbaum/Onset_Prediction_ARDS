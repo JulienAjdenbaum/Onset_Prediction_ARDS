{
 "cells": [
  {
   "cell_type": "code",
   "id": "initial_id",
   "metadata": {
    "collapsed": true,
    "ExecuteTime": {
     "end_time": "2024-09-17T20:20:56.193722Z",
     "start_time": "2024-09-17T20:20:54.901864Z"
    }
   },
   "source": [
    "import shutil\n",
    "import warnings\n",
    "import pandas as pd\n",
    "import numpy as np\n",
    "import os\n",
    "from sklearn.decomposition import PCA\n",
    "from sklearn.mixture import GaussianMixture\n",
    "import matplotlib.pyplot as plt\n",
    "from sklearn.preprocessing import StandardScaler\n",
    "import re\n",
    "import json\n",
    "from matplotlib.animation import FuncAnimation\n",
    "from src.LLM_labeling.get_LLM_label import get_LLM_result\n",
    "from src.models.regression_logistique import keys_number_dic\n",
    "from src.utils.patient import Patient"
   ],
   "outputs": [
    {
     "ename": "FileNotFoundError",
     "evalue": "[Errno 2] No such file or directory: 'db_config.json'",
     "output_type": "error",
     "traceback": [
      "\u001B[0;31m---------------------------------------------------------------------------\u001B[0m",
      "\u001B[0;31mFileNotFoundError\u001B[0m                         Traceback (most recent call last)",
      "Cell \u001B[0;32mIn[2], line 13\u001B[0m\n\u001B[1;32m     11\u001B[0m \u001B[38;5;28;01mimport\u001B[39;00m \u001B[38;5;21;01mjson\u001B[39;00m\n\u001B[1;32m     12\u001B[0m \u001B[38;5;28;01mfrom\u001B[39;00m \u001B[38;5;21;01mmatplotlib\u001B[39;00m\u001B[38;5;21;01m.\u001B[39;00m\u001B[38;5;21;01manimation\u001B[39;00m \u001B[38;5;28;01mimport\u001B[39;00m FuncAnimation\n\u001B[0;32m---> 13\u001B[0m \u001B[38;5;28;01mfrom\u001B[39;00m \u001B[38;5;21;01msrc\u001B[39;00m\u001B[38;5;21;01m.\u001B[39;00m\u001B[38;5;21;01mLLM_labeling\u001B[39;00m\u001B[38;5;21;01m.\u001B[39;00m\u001B[38;5;21;01mget_LLM_label\u001B[39;00m \u001B[38;5;28;01mimport\u001B[39;00m get_LLM_result\n\u001B[1;32m     14\u001B[0m \u001B[38;5;28;01mfrom\u001B[39;00m \u001B[38;5;21;01msrc\u001B[39;00m\u001B[38;5;21;01m.\u001B[39;00m\u001B[38;5;21;01mmodels\u001B[39;00m\u001B[38;5;21;01m.\u001B[39;00m\u001B[38;5;21;01mregression_logistique\u001B[39;00m \u001B[38;5;28;01mimport\u001B[39;00m keys_number_dic\n\u001B[1;32m     15\u001B[0m \u001B[38;5;28;01mfrom\u001B[39;00m \u001B[38;5;21;01msrc\u001B[39;00m\u001B[38;5;21;01m.\u001B[39;00m\u001B[38;5;21;01mutils\u001B[39;00m\u001B[38;5;21;01m.\u001B[39;00m\u001B[38;5;21;01mpatient\u001B[39;00m \u001B[38;5;28;01mimport\u001B[39;00m Patient\n",
      "File \u001B[0;32m~/Documents/stage/src/LLM_labeling/get_LLM_label.py:12\u001B[0m\n\u001B[1;32m     10\u001B[0m \u001B[38;5;28;01mfrom\u001B[39;00m \u001B[38;5;21;01mdatetime\u001B[39;00m \u001B[38;5;28;01mimport\u001B[39;00m timedelta\n\u001B[1;32m     11\u001B[0m \u001B[38;5;28;01mimport\u001B[39;00m \u001B[38;5;21;01mre\u001B[39;00m\n\u001B[0;32m---> 12\u001B[0m \u001B[38;5;28;01mfrom\u001B[39;00m \u001B[38;5;21;01msrc\u001B[39;00m\u001B[38;5;21;01m.\u001B[39;00m\u001B[38;5;21;01mutils\u001B[39;00m\u001B[38;5;21;01m.\u001B[39;00m\u001B[38;5;21;01mpatient\u001B[39;00m \u001B[38;5;28;01mimport\u001B[39;00m Patient\n\u001B[1;32m     13\u001B[0m \u001B[38;5;28;01mfrom\u001B[39;00m \u001B[38;5;21;01msrc\u001B[39;00m\u001B[38;5;21;01m.\u001B[39;00m\u001B[38;5;21;01mutils\u001B[39;00m\u001B[38;5;21;01m.\u001B[39;00m\u001B[38;5;21;01mdb_utils\u001B[39;00m \u001B[38;5;28;01mimport\u001B[39;00m run_query\n\u001B[1;32m     15\u001B[0m load_dotenv()\n",
      "File \u001B[0;32m~/Documents/stage/src/utils/patient.py:4\u001B[0m\n\u001B[1;32m      2\u001B[0m \u001B[38;5;28;01mimport\u001B[39;00m \u001B[38;5;21;01mos\u001B[39;00m\n\u001B[1;32m      3\u001B[0m \u001B[38;5;28;01mimport\u001B[39;00m \u001B[38;5;21;01mpandas\u001B[39;00m \u001B[38;5;28;01mas\u001B[39;00m \u001B[38;5;21;01mpd\u001B[39;00m\n\u001B[0;32m----> 4\u001B[0m \u001B[38;5;28;01mfrom\u001B[39;00m \u001B[38;5;21;01msrc\u001B[39;00m\u001B[38;5;21;01m.\u001B[39;00m\u001B[38;5;21;01mutils\u001B[39;00m\u001B[38;5;21;01m.\u001B[39;00m\u001B[38;5;21;01mdb_utils\u001B[39;00m \u001B[38;5;28;01mimport\u001B[39;00m run_query\n\u001B[1;32m      5\u001B[0m \u001B[38;5;28;01mimport\u001B[39;00m \u001B[38;5;21;01mdatetime\u001B[39;00m\n\u001B[1;32m      6\u001B[0m \u001B[38;5;28;01mimport\u001B[39;00m \u001B[38;5;21;01mwarnings\u001B[39;00m\n",
      "File \u001B[0;32m~/Documents/stage/src/utils/db_utils.py:20\u001B[0m\n\u001B[1;32m     14\u001B[0m     \u001B[38;5;28;01mreturn\u001B[39;00m create_engine(\n\u001B[1;32m     15\u001B[0m         \u001B[38;5;124mf\u001B[39m\u001B[38;5;124m\"\u001B[39m\u001B[38;5;124mpostgresql://\u001B[39m\u001B[38;5;132;01m{\u001B[39;00mdb_config[\u001B[38;5;124m'\u001B[39m\u001B[38;5;124mdb_user\u001B[39m\u001B[38;5;124m'\u001B[39m]\u001B[38;5;132;01m}\u001B[39;00m\u001B[38;5;124m:\u001B[39m\u001B[38;5;132;01m{\u001B[39;00mdb_config[\u001B[38;5;124m'\u001B[39m\u001B[38;5;124mdb_password\u001B[39m\u001B[38;5;124m'\u001B[39m]\u001B[38;5;132;01m}\u001B[39;00m\u001B[38;5;124m@\u001B[39m\u001B[38;5;132;01m{\u001B[39;00mdb_config[\u001B[38;5;124m'\u001B[39m\u001B[38;5;124mdb_host\u001B[39m\u001B[38;5;124m'\u001B[39m]\u001B[38;5;132;01m}\u001B[39;00m\u001B[38;5;124m:\u001B[39m\u001B[38;5;132;01m{\u001B[39;00mdb_config[\u001B[38;5;124m'\u001B[39m\u001B[38;5;124mdb_port\u001B[39m\u001B[38;5;124m'\u001B[39m]\u001B[38;5;132;01m}\u001B[39;00m\u001B[38;5;124m/\u001B[39m\u001B[38;5;132;01m{\u001B[39;00mdb_config[\u001B[38;5;124m'\u001B[39m\u001B[38;5;124mdb_name\u001B[39m\u001B[38;5;124m'\u001B[39m]\u001B[38;5;132;01m}\u001B[39;00m\u001B[38;5;124m\"\u001B[39m\n\u001B[1;32m     16\u001B[0m     )\n\u001B[1;32m     19\u001B[0m \u001B[38;5;66;03m# Example usage\u001B[39;00m\n\u001B[0;32m---> 20\u001B[0m db_config \u001B[38;5;241m=\u001B[39m \u001B[43mload_db_config\u001B[49m\u001B[43m(\u001B[49m\u001B[43m)\u001B[49m\n\u001B[1;32m     21\u001B[0m engine \u001B[38;5;241m=\u001B[39m create_db_engine(db_config)  \u001B[38;5;66;03m# Create engine once\u001B[39;00m\n\u001B[1;32m     24\u001B[0m \u001B[38;5;28;01mdef\u001B[39;00m \u001B[38;5;21mrun_query\u001B[39m(query: \u001B[38;5;28mstr\u001B[39m, params: \u001B[38;5;28mdict\u001B[39m, schema_name: \u001B[38;5;28mstr\u001B[39m \u001B[38;5;241m=\u001B[39m db_config[\u001B[38;5;124m'\u001B[39m\u001B[38;5;124mschema_name\u001B[39m\u001B[38;5;124m'\u001B[39m]) \u001B[38;5;241m-\u001B[39m\u001B[38;5;241m>\u001B[39m pd\u001B[38;5;241m.\u001B[39mDataFrame:\n",
      "File \u001B[0;32m~/Documents/stage/src/utils/db_utils.py:8\u001B[0m, in \u001B[0;36mload_db_config\u001B[0;34m(file_path)\u001B[0m\n\u001B[1;32m      7\u001B[0m \u001B[38;5;28;01mdef\u001B[39;00m \u001B[38;5;21mload_db_config\u001B[39m(file_path\u001B[38;5;241m=\u001B[39m\u001B[38;5;124m'\u001B[39m\u001B[38;5;124mdb_config.json\u001B[39m\u001B[38;5;124m'\u001B[39m):\n\u001B[0;32m----> 8\u001B[0m     \u001B[38;5;28;01mwith\u001B[39;00m \u001B[38;5;28;43mopen\u001B[39;49m\u001B[43m(\u001B[49m\u001B[43mfile_path\u001B[49m\u001B[43m,\u001B[49m\u001B[43m \u001B[49m\u001B[38;5;124;43m'\u001B[39;49m\u001B[38;5;124;43mr\u001B[39;49m\u001B[38;5;124;43m'\u001B[39;49m\u001B[43m)\u001B[49m \u001B[38;5;28;01mas\u001B[39;00m config_file:\n\u001B[1;32m      9\u001B[0m         \u001B[38;5;28;01mreturn\u001B[39;00m json\u001B[38;5;241m.\u001B[39mload(config_file)\n",
      "\u001B[0;31mFileNotFoundError\u001B[0m: [Errno 2] No such file or directory: 'db_config.json'"
     ]
    }
   ],
   "execution_count": 2
  },
  {
   "metadata": {},
   "cell_type": "code",
   "outputs": [],
   "execution_count": null,
   "source": [
    "def get_keys(patient:Patient, keys_number_dic):\n",
    "    config = patient.get_existing_config()\n",
    "    if \"fit_keys\" in config.keys():\n",
    "        keys = config[\"initial_keys\"]\n",
    "        for key in keys:\n",
    "            if key not in keys_number_dic:\n",
    "                keys_number_dic[key] = [patient.subject_id]\n",
    "            else:\n",
    "                keys_number_dic[key].append(patient.subject_id)\n",
    "    return keys_number_dic"
   ],
   "id": "64f9e77a51e4c57b"
  },
  {
   "metadata": {
    "ExecuteTime": {
     "end_time": "2024-09-17T20:20:56.519273Z",
     "start_time": "2024-09-17T20:20:56.504911Z"
    }
   },
   "cell_type": "code",
   "source": [
    "keys_number_dic = {}\n",
    "project_dir = \"/home/julien/Documents/stage/data/MIMIC/cohorts_new\"\n",
    "patients_list_df = pd.read_csv(os.path.join(project_dir, \"patients.csv\"))\n",
    "print(len(patients_list_df))\n",
    "for index, row in patients_list_df.iterrows():\n",
    "    print(index)\n",
    "    patient = Patient.load(project_dir, str(row[\"subject_id\"]), str(row[\"hadm_id\"]))\n",
    "    get_keys(patient, keys_number_dic)\n",
    "len_dict = {key:len(keys_number_dic[key]) for key in keys_number_dic}\n",
    "sorted_keys = sorted(len_dict, key=len_dict.get)\n",
    "for key in sorted_keys[::-1]:\n",
    "    print(key)\n",
    "    print(len_dict[key])"
   ],
   "id": "dc1354e80e7bce48",
   "outputs": [
    {
     "name": "stdout",
     "output_type": "stream",
     "text": [
      "94\n",
      "0\n"
     ]
    },
    {
     "ename": "NameError",
     "evalue": "name 'Patient' is not defined",
     "output_type": "error",
     "traceback": [
      "\u001B[0;31m---------------------------------------------------------------------------\u001B[0m",
      "\u001B[0;31mNameError\u001B[0m                                 Traceback (most recent call last)",
      "Cell \u001B[0;32mIn[3], line 7\u001B[0m\n\u001B[1;32m      5\u001B[0m \u001B[38;5;28;01mfor\u001B[39;00m index, row \u001B[38;5;129;01min\u001B[39;00m patients_list_df\u001B[38;5;241m.\u001B[39miterrows():\n\u001B[1;32m      6\u001B[0m     \u001B[38;5;28mprint\u001B[39m(index)\n\u001B[0;32m----> 7\u001B[0m     patient \u001B[38;5;241m=\u001B[39m \u001B[43mPatient\u001B[49m\u001B[38;5;241m.\u001B[39mload(project_dir, \u001B[38;5;28mstr\u001B[39m(row[\u001B[38;5;124m\"\u001B[39m\u001B[38;5;124msubject_id\u001B[39m\u001B[38;5;124m\"\u001B[39m]), \u001B[38;5;28mstr\u001B[39m(row[\u001B[38;5;124m\"\u001B[39m\u001B[38;5;124mhadm_id\u001B[39m\u001B[38;5;124m\"\u001B[39m]))\n\u001B[1;32m      8\u001B[0m     get_keys(patient, keys_number_dic)\n\u001B[1;32m      9\u001B[0m len_dict \u001B[38;5;241m=\u001B[39m {key:\u001B[38;5;28mlen\u001B[39m(keys_number_dic[key]) \u001B[38;5;28;01mfor\u001B[39;00m key \u001B[38;5;129;01min\u001B[39;00m keys_number_dic}\n",
      "\u001B[0;31mNameError\u001B[0m: name 'Patient' is not defined"
     ]
    }
   ],
   "execution_count": 3
  }
 ],
 "metadata": {
  "kernelspec": {
   "display_name": "Python 3",
   "language": "python",
   "name": "python3"
  },
  "language_info": {
   "codemirror_mode": {
    "name": "ipython",
    "version": 2
   },
   "file_extension": ".py",
   "mimetype": "text/x-python",
   "name": "python",
   "nbconvert_exporter": "python",
   "pygments_lexer": "ipython2",
   "version": "2.7.6"
  }
 },
 "nbformat": 4,
 "nbformat_minor": 5
}
